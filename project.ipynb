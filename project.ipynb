{
 "cells": [
  {
   "cell_type": "code",
   "execution_count": 1,
   "metadata": {},
   "outputs": [
    {
     "name": "stdout",
     "output_type": "stream",
     "text": [
      "  objektid                      objektnimi tehnseisukord  \\\n",
      "0    10849                         Jõusaal      Väga hea   \n",
      "1    11527                   Aeroobikasaal      Väga hea   \n",
      "2    10320  24-7fitness Kuressaare jõusaal      Väga hea   \n",
      "3    10315                         Jõusaal      Väga hea   \n",
      "4    12348                         Jõusaal      Väga hea   \n",
      "\n",
      "                                          spordialad  \n",
      "0      jõutõstmine, Kulturism ja fitness, Tõstesport  \n",
      "1  aeroobika ja rühmatreeningud, harrastusvõimlemine  \n",
      "2      jõutõstmine, Kulturism ja fitness, Tõstesport  \n",
      "3      jõutõstmine, Kulturism ja fitness, Tõstesport  \n",
      "4      jõutõstmine, Kulturism ja fitness, Tõstesport  \n"
     ]
    }
   ],
   "source": [
    "import json\n",
    "import pandas as pd\n",
    "\n",
    "# Load the JSON file, assuming it is properly formatted\n",
    "data = pd.read_json('spordiehitised.json')\n",
    "\n",
    "# Function to parse the JSON-like string and extract information\n",
    "def extract_info(json_str):\n",
    "    try:\n",
    "        # Convert to string if not already a string (handling non-string cases)\n",
    "        if not isinstance(json_str, str):\n",
    "            json_str = str(json_str)\n",
    "        \n",
    "        # Replace single quotes with double quotes for JSON compatibility\n",
    "        json_str = json_str.replace(\"'\", '\"').replace('\\\\', '\\\\\\\\')\n",
    "        \n",
    "        # Parse the JSON string\n",
    "        data_dict = json.loads(json_str)\n",
    "        # Extract the first key and associated data\n",
    "        first_key = list(data_dict.keys())[0]\n",
    "        info = data_dict[first_key]\n",
    "        \n",
    "        # Extract required fields\n",
    "        objektid = info.get('objektid', '')\n",
    "        objektnimi = info.get('objektnimi', '')\n",
    "        tehnseisukord = info.get('tehnseisukord', '')\n",
    "        \n",
    "        # Extract 'spordialad', handling nested dictionary keys\n",
    "        spordialad_keys = info.get('spordialad', {}).keys()\n",
    "        spordialad = ', '.join([info['spordialad'][key].get('spordiala', '') for key in spordialad_keys])\n",
    "        \n",
    "        return pd.Series([objektid, objektnimi, tehnseisukord, spordialad])\n",
    "    except Exception as e:\n",
    "        # Log error details for review\n",
    "        with open('error_log.txt', 'a') as f:\n",
    "            f.write(f\"Error processing JSON: {e} - Data: {json_str[:100]}\\n\")\n",
    "        return pd.Series([None, None, None, None])\n",
    "\n",
    "# Define new columns and initialize them\n",
    "new_columns = ['objektid', 'objektnimi', 'tehnseisukord', 'spordialad']\n",
    "data[new_columns] = pd.DataFrame(columns=new_columns)  # Initialize the new columns\n",
    "\n",
    "# Apply the function to the 'paigad' column of the whole dataset\n",
    "data[new_columns] = data['paigad'].apply(extract_info)\n",
    "\n",
    "columns_to_keep = [\n",
    "    'rajatisid', 'rajatisnimi', 'kompleks', 'liik', 'omandiliik', 'ehstaatus',\n",
    "    'om_oigvorm_id', 'omaniknimi', 'omanikregkood', 'va_oigvorm_id',\n",
    "    'valdajanimi', 'valdajaregkood', 'kaart_laius', 'kaart_pikkus', 'maakond',\n",
    "    'maakond_kood', 'kov', 'asustusyksus', 'asustusyksus_kood', 'riietusruumidemahutavus',\n",
    "    'objektid', 'objektnimi', 'tehnseisukord', 'spordialad'\n",
    "]\n",
    "\n",
    "data = data[columns_to_keep]\n",
    "\n",
    "# save the updated DataFrame to a new CSV file\n",
    "data.to_csv('spordiehitised.csv', index=False)\n"
   ]
  },
  {
   "cell_type": "code",
   "execution_count": 2,
   "metadata": {},
   "outputs": [],
   "source": [
    "processed_data = pd.read_csv('spordiehitised.csv')"
   ]
  },
  {
   "cell_type": "code",
   "execution_count": 3,
   "metadata": {},
   "outputs": [],
   "source": [
    "# Convert all string columns to lowercase\n",
    "processed_data = processed_data.apply(lambda x: x.str.lower() if x.dtype == \"object\" else x)\n",
    "\n",
    "processed_data = processed_data.fillna(0)\n"
   ]
  },
  {
   "cell_type": "code",
   "execution_count": 4,
   "metadata": {},
   "outputs": [],
   "source": [
    "for column in processed_data.columns:\n",
    "    if processed_data[column].dtype == 'object':\n",
    "        processed_data[column] = processed_data[column].astype(str)\n",
    "\n",
    "columns_to_convert = [\n",
    "    'omanikregkood', 'valdajaregkood', 'maakond_kood', 'asustusyksus_kood', 'riietusruumidemahutavus',\n",
    "    'objektid'\n",
    "]\n",
    "\n",
    "for column in columns_to_convert:\n",
    "    processed_data[column] = pd.to_numeric(processed_data[column], errors='coerce').fillna(0).astype(int)"
   ]
  },
  {
   "cell_type": "code",
   "execution_count": 12,
   "metadata": {},
   "outputs": [],
   "source": [
    "data_org = pd.read_json('spordiorganisatsioonid.json')\n",
    "columns_to_keep_org = [\n",
    "    'org_id', 'nimi', 'registrikood', 'maakond', 'maakond_kood', 'kov', 'kov_kood', 'kaart_laius', 'kaart_pikkus'\n",
    "]\n",
    "data_org = data_org[columns_to_keep_org]\n",
    "\n",
    "# save the updated DataFrame to a new CSV file\n",
    "data_org.to_csv('spordiorganisatsioonid.csv')\n",
    "\n",
    "processed_data_org = pd.read_csv('spordiorganisatsioonid.csv')\n",
    "\n",
    "# Convert all string columns to lowercase\n",
    "processed_data_org = processed_data_org.apply(lambda x: x.str.lower() if x.dtype == \"object\" else x)\n",
    "\n",
    "processed_data_org = processed_data_org.fillna(0)\n",
    "\n",
    "for column in processed_data_org.columns:\n",
    "    if processed_data_org[column].dtype == 'object':\n",
    "        processed_data_org[column] = processed_data_org[column].astype(str)\n",
    "\n",
    "columns_to_convert = [\n",
    "    'registrikood', 'maakond_kood', 'kov_kood'\n",
    "]\n",
    "\n",
    "for column in columns_to_convert:\n",
    "    processed_data_org[column] = pd.to_numeric(processed_data_org[column], errors='coerce').fillna(0).astype(int)"
   ]
  }
 ],
 "metadata": {
  "kernelspec": {
   "display_name": "network_science",
   "language": "python",
   "name": "python3"
  },
  "language_info": {
   "codemirror_mode": {
    "name": "ipython",
    "version": 3
   },
   "file_extension": ".py",
   "mimetype": "text/x-python",
   "name": "python",
   "nbconvert_exporter": "python",
   "pygments_lexer": "ipython3",
   "version": "3.10.14"
  }
 },
 "nbformat": 4,
 "nbformat_minor": 2
}
