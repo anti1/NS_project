{
 "cells": [
  {
   "cell_type": "markdown",
   "metadata": {},
   "source": [
    "# Network Science Project - Analysis of Sports Facilities in Estonia\n",
    "\n",
    "## Purpose\n",
    "This notebook presents the analysis conducted as part of a Network Science course project. The primary focus is on data manipulation and network analysis to derive meaningful insights from the dataset.\n",
    "\n",
    "## Structure\n",
    "- **Initial Setup**: Import necessary libraries and set up the environment for analysis.\n",
    "- **Data Loading**: Load two datasets containing data about sports facilities and sports organizations in Estonia.\n",
    "- **Data Preprocessing**: Convert columns to correct formats, process numerical data, and prepare the data for network analysis.\n",
    "\n",
    "## Goals\n",
    "- To understand the connections and relationships within the data.\n",
    "- To apply network science methodologies to uncover patterns and insights.\n",
    "\n",
    "## Data Sources\n",
    "- JSON files from Eesti spordiregister (Estonian Sports Register)"
   ]
  },
  {
   "cell_type": "markdown",
   "metadata": {},
   "source": [
    "## Preprocessing"
   ]
  },
  {
   "cell_type": "markdown",
   "metadata": {},
   "source": [
    "### Sports Facilities dataset"
   ]
  },
  {
   "cell_type": "code",
   "execution_count": 3,
   "metadata": {},
   "outputs": [],
   "source": [
    "import json\n",
    "import pandas as pd\n",
    "\n",
    "data = pd.read_json('spordiehitised.json')\n",
    "\n",
    "# Parse the JSON-like string and extract information\n",
    "def extract_info(json_str):\n",
    "    try:\n",
    "        if not isinstance(json_str, str):\n",
    "            json_str = str(json_str)\n",
    "        json_str = json_str.replace(\"'\", '\"').replace('\\\\', '\\\\\\\\')\n",
    "\n",
    "        data_dict = json.loads(json_str)\n",
    "        first_key = list(data_dict.keys())[0]\n",
    "        info = data_dict[first_key]\n",
    "        \n",
    "        # Extract required fields\n",
    "        objektid = info.get('objektid', '')\n",
    "        objektnimi = info.get('objektnimi', '')\n",
    "        tehnseisukord = info.get('tehnseisukord', '')\n",
    "        \n",
    "        # Extract 'spordialad', handling nested dictionary keys\n",
    "        spordialad_keys = info.get('spordialad', {}).keys()\n",
    "        spordialad = ', '.join([info['spordialad'][key].get('spordiala', '') for key in spordialad_keys])\n",
    "        \n",
    "        return pd.Series([objektid, objektnimi, tehnseisukord, spordialad])\n",
    "    except Exception as e:\n",
    "        # Log error details\n",
    "        with open('error_log.txt', 'a') as f:\n",
    "            f.write(f\"Error processing JSON: {e} - Data: {json_str[:100]}\\n\")\n",
    "        return pd.Series([None, None, None, None])\n",
    "\n",
    "# Define new columns\n",
    "new_columns = ['objektid', 'objektnimi', 'tehnseisukord', 'spordialad']\n",
    "data[new_columns] = pd.DataFrame(columns=new_columns)  # Initialize the new columns\n",
    "\n",
    "data[new_columns] = data['paigad'].apply(extract_info)\n",
    "\n",
    "# Remove unnecessary columns\n",
    "columns_to_keep = [\n",
    "    'rajatisid', 'rajatisnimi', 'kompleks', 'liik', 'omandiliik', 'ehstaatus',\n",
    "    'om_oigvorm_id', 'omaniknimi', 'omanikregkood', 'va_oigvorm_id',\n",
    "    'valdajanimi', 'valdajaregkood', 'kaart_laius', 'kaart_pikkus', 'maakond',\n",
    "    'maakond_kood', 'kov', 'asustusyksus', 'asustusyksus_kood', 'riietusruumidemahutavus',\n",
    "    'objektid', 'objektnimi', 'tehnseisukord', 'spordialad'\n",
    "]\n",
    "\n",
    "data = data[columns_to_keep]\n",
    "data.to_csv('spordiehitised.csv', index=False)\n",
    "\n",
    "# Work with CSV file\n",
    "processed_data = pd.read_csv('spordiehitised.csv')\n",
    "\n",
    "# Convert all string columns to lowercase\n",
    "processed_data = processed_data.apply(lambda x: x.str.lower() if x.dtype == \"object\" else x)\n",
    "# Fill NaN values with '0'\n",
    "processed_data = processed_data.fillna(0)\n",
    "\n",
    "# Convert columns\n",
    "for column in processed_data.columns:\n",
    "    if processed_data[column].dtype == 'object':\n",
    "        processed_data[column] = processed_data[column].astype(str)\n",
    "columns_to_int = [\n",
    "    'omanikregkood', 'valdajaregkood', 'maakond_kood', 'asustusyksus_kood', 'riietusruumidemahutavus',\n",
    "    'objektid'\n",
    "]\n",
    "for column in columns_to_int:\n",
    "    processed_data[column] = pd.to_numeric(processed_data[column], errors='coerce').fillna(0).astype(int)"
   ]
  },
  {
   "cell_type": "markdown",
   "metadata": {},
   "source": [
    "### Sports Organisations dataset"
   ]
  },
  {
   "cell_type": "code",
   "execution_count": 6,
   "metadata": {},
   "outputs": [],
   "source": [
    "data_org = pd.read_json('spordiorganisatsioonid.json')\n",
    "columns_to_keep_org = [\n",
    "    'org_id', 'nimi', 'registrikood', 'maakond', 'maakond_kood', 'kov', 'kov_kood', 'kaart_laius', 'kaart_pikkus'\n",
    "]\n",
    "data_org = data_org[columns_to_keep_org]\n",
    "\n",
    "data_org.to_csv('spordiorganisatsioonid.csv')\n",
    "\n",
    "# Work with CSV file\n",
    "processed_data_org = pd.read_csv('spordiorganisatsioonid.csv')\n",
    "\n",
    "# Convert all string columns to lowercase\n",
    "processed_data_org = processed_data_org.apply(lambda x: x.str.lower() if x.dtype == \"object\" else x)\n",
    "# Fill NaN values with '0'\n",
    "processed_data_org = processed_data_org.fillna(0)\n",
    "\n",
    "# Convert columns\n",
    "for column in processed_data_org.columns:\n",
    "    if processed_data_org[column].dtype == 'object':\n",
    "        processed_data_org[column] = processed_data_org[column].astype(str)\n",
    "columns_to_int_org = [\n",
    "    'registrikood', 'maakond_kood', 'kov_kood'\n",
    "]\n",
    "\n",
    "for column in columns_to_int_org:\n",
    "    processed_data_org[column] = pd.to_numeric(processed_data_org[column], errors='coerce').fillna(0).astype(int)"
   ]
  }
 ],
 "metadata": {
  "kernelspec": {
   "display_name": "network_science",
   "language": "python",
   "name": "python3"
  },
  "language_info": {
   "codemirror_mode": {
    "name": "ipython",
    "version": 3
   },
   "file_extension": ".py",
   "mimetype": "text/x-python",
   "name": "python",
   "nbconvert_exporter": "python",
   "pygments_lexer": "ipython3",
   "version": "3.10.14"
  }
 },
 "nbformat": 4,
 "nbformat_minor": 2
}
